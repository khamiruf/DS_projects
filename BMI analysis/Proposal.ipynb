{
 "cells": [
  {
   "cell_type": "markdown",
   "metadata": {},
   "source": [
    "# Proposal Submission\n",
    "*by: Khairul Amiruf and Mervin Lee* "
   ]
  },
  {
   "cell_type": "markdown",
   "metadata": {},
   "source": [
    "## Problem Statement\n"
   ]
  },
  {
   "cell_type": "markdown",
   "metadata": {},
   "source": [
    "This project aims to analyse and evaluate the relationship between food expenditure behaviour and its impact on consumers’ heath in the US. We will be using Body-Mass-Index as a basis of evaluation for health patterns. "
   ]
  },
  {
   "cell_type": "markdown",
   "metadata": {},
   "source": [
    "Over the years, the food scene in Singapore is becoming more and more varied, gaining influence from all corners of the globe, more so from the Western countries. Consequently, the analysis on US food expenditure patterns can be related to Singapore as we are becoming increasingly synonymous with them. Therefore, this analysis would be relevant to Singapore's population as well. \n"
   ]
  },
  {
   "cell_type": "markdown",
   "metadata": {},
   "source": [
    "## Data Sets"
   ]
  },
  {
   "cell_type": "markdown",
   "metadata": {},
   "source": [
    "We will be using 2 datasets to conduct our analysis. \n",
    "1. Normalized food expenditures by final purchasers and users, from previously-published estimates  from: **Archived Food Expenditure Tables** https://www.ers.usda.gov/data-products/food-expenditure-series/\n",
    "2. **BMI data specific to country**: United States of America http://www.ncdrisc.org/data-downloads-adiposity.html\n",
    "\n",
    "\n",
    "Through these datasets, we intend to meet these objectives: \n",
    "- What is the trend of food expenditure in the US? (Eating in vs eating out)\n",
    "- What is the trend of the Body-Mass-Index (BMI) for US citizens? \n",
    "- Is there a relationship between the food expenditure trend and BMI trend in USA?\n"
   ]
  },
  {
   "cell_type": "markdown",
   "metadata": {},
   "source": [
    "##  Description of Datasets"
   ]
  },
  {
   "cell_type": "markdown",
   "metadata": {},
   "source": [
    "We decided to use an Archived Food Expenditure dataset over a more recent dataset due to the normalized data. Previously, we intended to use a dataset that is more current. However, it was data of nominal expenditure, which means that inflation was not taken into account for the values. Thus, the increase in expenditure values over the years could be attributed to various reasons that could not be accounted for. This would diminish the meaningfulness of this analysis."
   ]
  },
  {
   "cell_type": "markdown",
   "metadata": {},
   "source": [
    "In the ‘Normalized food expenditures’ dataset, the data categories are ‘Food expenditure share of disposable personal income’, ‘Share of food expenditures’, ‘Nominal expenditure per capita’ and ‘Constant dollar expenditure per capita’ over the years of 1995-2014. "
   ]
  },
  {
   "cell_type": "markdown",
   "metadata": {},
   "source": [
    "In the BMI dataset, the columns we will be using are ‘Sex’, ‘Year’ and  ‘Mean BMI’ for years 1995-2014. However, we will be merging the two columns to get the overall populations’ BMI trend over the years. "
   ]
  }
 ],
 "metadata": {
  "kernelspec": {
   "display_name": "Python 3",
   "language": "python",
   "name": "python3"
  },
  "language_info": {
   "codemirror_mode": {
    "name": "ipython",
    "version": 3
   },
   "file_extension": ".py",
   "mimetype": "text/x-python",
   "name": "python",
   "nbconvert_exporter": "python",
   "pygments_lexer": "ipython3",
   "version": "3.6.5"
  }
 },
 "nbformat": 4,
 "nbformat_minor": 2
}
